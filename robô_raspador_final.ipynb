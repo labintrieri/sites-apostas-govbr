{
  "nbformat": 4,
  "nbformat_minor": 0,
  "metadata": {
    "colab": {
      "provenance": [],
      "include_colab_link": true
    },
    "kernelspec": {
      "name": "python3",
      "display_name": "Python 3"
    },
    "language_info": {
      "name": "python"
    }
  },
  "cells": [
    {
      "cell_type": "markdown",
      "metadata": {
        "id": "view-in-github",
        "colab_type": "text"
      },
      "source": [
        "<a href=\"https://colab.research.google.com/github/labintrieri/sites-apostas-govbr/blob/main/rob%C3%B4_raspador_final.ipynb\" target=\"_parent\"><img src=\"https://colab.research.google.com/assets/colab-badge.svg\" alt=\"Open In Colab\"/></a>"
      ]
    },
    {
      "cell_type": "code",
      "source": [
        "\n",
        "import requests\n",
        "from bs4 import BeautifulSoup\n",
        "import time\n",
        "import csv\n",
        "from tqdm import tqdm\n",
        "import pandas as pd\n",
        "\n",
        "\n",
        "# Lista de URLs\n",
        "urls = [\n",
        "    {\"name\": \"novinha\",\"url\":\"https://www.google.com/search?q=%22novinha%22+inurl%3Agov.br&sca_esv=584386099&rlz=1C1VDKB_pt-PTBR1072BR1072&sxsrf=AM9HkKkjF7M1ozlKN_b0pz10-9CoF7oF2g%3A1700601044913&ei=1BxdZdafN_G-5OUP-omWmA8&ved=0ahUKEwjW2b7JgNaCAxVxH7kGHfqEBfMQ4dUDCBE&uact=5&oq=%22novinha%22+inurl%3Agov.br&gs_lp=Egxnd3Mtd2l6LXNlcnAiFiJub3ZpbmhhIiBpbnVybDpnb3YuYnJIjApQ_ARYmQlwAngAkAEAmAGMAaAB3AWqAQMwLja4AQPIAQD4AQHiAwQYASBBiAYB&sclient=gws-wiz-serp#ip=1\"},\n",
        "    {\"name\":\"lucre\",'url':'https://www.google.com/search?q=%22lucre%22+inurl%3Agov.br&rlz=1C1VDKB_pt-PTBR1072BR1072&oq=%22lucre%22+inurl%3Agov.br&gs_lcrp=EgZjaHJvbWUyBggAEEUYOdIBBzQyMmowajeoAgCwAgA&sourceid=chrome&ie=UTF-8'},\n",
        "    {'name':'ganhar dinheiro com prostituição','url':'https://www.google.com/search?q=%22ganhar+dinheiro+com+prostitui%C3%A7%C3%A3o%22+inurl%3Agov.br&rlz=1C1VDKB_pt-PTBR1072BR1072&oq=%22ganhar+dinheiro+com+prostitui%C3%A7%C3%A3o%22+inurl%3Agov.br&gs_lcrp=EgZjaHJvbWUyBggAEEUYOdIBBzkzN2owajeoAgCwAgA&sourceid=chrome&ie=UTF-8'},\n",
        "    {'name':'putaria','url':'https://www.google.com/search?q=%22putaria%22+inurl%3Agov.br&rlz=1C1VDKB_pt-PTBR1072BR1072&oq=%22putaria%22+inurl%3Agov.br&gs_lcrp=EgZjaHJvbWUyBggAEEUYOdIBBzMyMWowajeoAgCwAgA&sourceid=chrome&ie=UTF-8'},\n",
        "    {'name':'buceta de 15 anos','url':'https://www.google.com/search?q=%22buceta+de+15+anos%22+inurl%3Agov.br&sca_esv=584400697&rlz=1C1VDKB_pt-PTBR1072BR1072&sxsrf=AM9HkKmytde4ml9jffk2W3rE4tJgMLTXBA%3A1700610858030&ei=KkNdZbisAdnM1sQPxq29-Ak&ved=0ahUKEwi46d-QpdaCAxVZppUCHcZWD58Q4dUDCBE&uact=5&oq=%22buceta+de+15+anos%22+inurl%3Agov.br&gs_lp=Egxnd3Mtd2l6LXNlcnAiICJidWNldGEgZGUgMTUgYW5vcyIgaW51cmw6Z292LmJySLAXUJECWNwVcAN4AJABAJgB0wGgAakIqgEFMC42LjG4AQPIAQD4AQHCAgoQIxiuAhiwAxgnwgIHECMYrgIYJ-IDBBgBIEGIBgGQBgI&sclient=gws-wiz-serp#ip=1'},\n",
        "    {'name':'xxxvideos','url':'https://www.google.com/search?q=%22xxxvideos%22+inurl%3Agov.br&sca_esv=584386099&rlz=1C1VDKB_pt-PTBR1072BR1072&sxsrf=AM9HkKnKTSqvEusg1t6nlDVKyEWTax6H6g%3A1700607561207&ei=STZdZaSoDKqX5OUP6s2zmAQ&ved=0ahUKEwjk8NnsmNaCAxWqC7kGHermDEMQ4dUDCBE&uact=5&oq=%22xxxvideos%22+inurl%3Agov.br&gs_lp=Egxnd3Mtd2l6LXNlcnAiGCJ4eHh2aWRlb3MiIGludXJsOmdvdi5ickiMEFDNBViRD3ACeACQAQCYAZ4BoAHxB6oBAzAuOLgBA8gBAPgBAeIDBBgBIEGIBgE&sclient=gws-wiz-serp#ip=1'},\n",
        "    {'name':'porno','url':'https://www.google.com/search?q=%22porno%22+inurl%3Agov.br&sca_esv=584386099&rlz=1C1VDKB_pt-PTBR1072BR1072&sxsrf=AM9HkKmBbIfuSDK-FAaYLcjtkQzTY3dQTA%3A1700611402807&ei=SkVdZeTWMI_K1sQP7uGwgAI&ved=0ahUKEwjko8KUp9aCAxUPpZUCHe4wDCAQ4dUDCBE&uact=5&oq=%22porno%22+inurl%3Agov.br&gs_lp=Egxnd3Mtd2l6LXNlcnAiFCJwb3JubyIgaW51cmw6Z292LmJySPMLUNIGWKIKcAJ4AJABAZgBmQGgAfAFqgEDMC42uAEDyAEA-AEB4gMEGAEgQYgGAQ&sclient=gws-wiz-serp#ip=1'},\n",
        "    {'name':'bet','url':'https://www.google.com/search?q=%22bet%22+inurl%3Agov.br&sca_esv=584386099&rlz=1C1VDKB_pt-PTBR1072BR1072&sxsrf=AM9HkKnW3SxuoAx4ZyLHeYNMfmvCbTPyTg%3A1700611553538&ei=4UVdZYiwIInZ1sQPhbep0A0&ved=0ahUKEwjIpLLcp9aCAxWJrJUCHYVbCtoQ4dUDCBE&uact=5&oq=%22bet%22+inurl%3Agov.br&gs_lp=Egxnd3Mtd2l6LXNlcnAiEiJiZXQiIGludXJsOmdvdi5ickjKFlCWA1iyFXACeACQAQCYAaABoAHbCaoBBDAuMTC4AQPIAQD4AQHiAwQYASBBiAYB&sclient=gws-wiz-serp#ip=1'},\n",
        "    {'name':'nude','url':'https://www.google.com/search?q=%22nude%22+inurl%3Agov.br&sca_esv=584400697&rlz=1C1VDKB_pt-PTBR1072BR1072&sxsrf=AM9HkKnXZ2OjyFXnPXqQjjxj-FPGD0IMQw%3A1700610870993&ei=NkNdZefzO-za1sQP75Sd4AY&ved=0ahUKEwjn5vaWpdaCAxVsrZUCHW9KB2wQ4dUDCBE&uact=5&oq=%22nude%22+inurl%3Agov.br&gs_lp=Egxnd3Mtd2l6LXNlcnAiEyJudWRlIiBpbnVybDpnb3YuYnJI9hZQrBBYlRNwAXgAkAEAmAFwoAG1A6oBAzAuNLgBA8gBAPgBAeIDBBgBIEGIBgE&sclient=gws-wiz-serp#ip=1'},\n",
        "    {'name':'fortune tiger','url':'https://www.google.com/search?q=%22fortune+tiger%22+inurl%3Agov.br&sca_esv=584400697&rlz=1C1VDKB_pt-PTBR1072BR1072&sxsrf=AM9HkKk2XZ10LPQhovw_cbrSY-bp7iFl8A%3A1700611676022&ei=XEZdZdF9rPXk5Q-S1LuACw&ved=0ahUKEwjRm-aWqNaCAxWsOrkGHRLqDrAQ4dUDCBE&uact=5&oq=%22fortune+tiger%22+inurl%3Agov.br&gs_lp=Egxnd3Mtd2l6LXNlcnAiHCJmb3J0dW5lIHRpZ2VyIiBpbnVybDpnb3YuYnJIzBFQ0gVYnBBwAngAkAEAmAGkAaAB3wyqAQQwLjEzuAEDyAEA-AEB4gMEGAEgQYgGAQ&sclient=gws-wiz-serp#ip=1'},\n",
        "    {'name':'slots','url':'https://www.google.com/search?q=%22slots%22+inurl%3Agov.br&sca_esv=584400697&rlz=1C1VDKB_pt-PTBR1072BR1072&sxsrf=AM9HkKnZ23oQCBVwWctnf55UQLG-WMh9RA%3A1700611777768&ei=wUZdZf-mLvXZ1sQP8NyfkAI&ved=0ahUKEwi_i6jHqNaCAxX1rJUCHXDuByIQ4dUDCBE&uact=5&oq=%22slots%22+inurl%3Agov.br&gs_lp=Egxnd3Mtd2l6LXNlcnAiFCJzbG90cyIgaW51cmw6Z292LmJySP0PULwCWM8OcAF4AJABAZgB7QGgAcMKqgEFMC45LjG4AQPIAQD4AQHiAwQYASBBiAYB&sclient=gws-wiz-serp#ip=1'},\n",
        "    {'name':'foguetinho','url':'https://www.google.com/search?q=%22foguetinho%22+inurl%3Agov.br&sca_esv=584912597&rlz=1C1VDKB_pt-PTBR1072BR1072&sxsrf=AM9HkKmHWgVdO95kzZrcy8U8HkUzptYcOQ%3A1700767975095&ei=56hfZeOrBf7A5OUP1YOU8A0&ved=0ahUKEwiju4C47tqCAxV-ILkGHdUBBd4Q4dUDCBA&uact=5&oq=%22foguetinho%22+inurl%3Agov.br&gs_lp=Egxnd3Mtd2l6LXNlcnAiGSJmb2d1ZXRpbmhvIiBpbnVybDpnb3YuYnJIkw1Q1QNYyAtwAXgAkAEAmAF-oAH7CKoBBDAuMTC4AQPIAQD4AQHiAwQYASBBiAYB&sclient=gws-wiz-serp#ip=1'},\n",
        "    {'name':'cassino online','url':'https://www.google.com/search?q=%22cassino+online%22+inurl%3Agov.br&sca_esv=584912597&rlz=1C1VDKB_pt-PTBR1072BR1072&sxsrf=AM9HkKmKu_tgN-YQHez2p_rMcQXKAmUyFw%3A1700767984219&ei=8KhfZY-HDeao5OUPyMGMyAQ&ved=0ahUKEwiPv6287tqCAxVmFLkGHcggA0kQ4dUDCBA&uact=5&oq=%22cassino+online%22+inurl%3Agov.br&gs_lp=Egxnd3Mtd2l6LXNlcnAiHSJjYXNzaW5vIG9ubGluZSIgaW51cmw6Z292LmJySK9tULomWLpscAl4AJABAJgBoAGgAcsUqgEEMC4yMrgBA8gBAPgBAeIDBBgBIEGIBgE&sclient=gws-wiz-serp#ip=1'},\n",
        "    {'name':'jackpots','url':'https://www.google.com/search?q=%22jackpots%22+inurl%3Agov.br&sca_esv=584912597&rlz=1C1VDKB_pt-PTBR1072BR1072&sxsrf=AM9HkKkB4A6jJGm0InESo2kbMDMIHEagnA%3A1700768159720&ei=n6lfZZW8K_SY5OUPzpO-2Ak&ved=0ahUKEwjVh4WQ79qCAxV0DLkGHc6JD5sQ4dUDCBA&uact=5&oq=%22jackpots%22+inurl%3Agov.br&gs_lp=Egxnd3Mtd2l6LXNlcnAiFyJqYWNrcG90cyIgaW51cmw6Z292LmJySNMUUOMFWIQPcAJ4AJABAJgBeKABigeqAQMwLji4AQPIAQD4AQHiAwQYASBBiAYB&sclient=gws-wiz-serp#ip=1'},\n",
        "    {'name':'pornhub','url':'https://www.google.com/search?q=%22pornhub%22+inurl%3Agov.br&sca_esv=584912597&rlz=1C1VDKB_pt-PTBR1072BR1072&sxsrf=AM9HkKmFWahtM6JaTo-6ap4XIVEqN7E7ig%3A1700768251738&ei=-6lfZdrWLKP25OUPrYyv-Ak&ved=0ahUKEwiawPW779qCAxUjO7kGHS3GC58Q4dUDCBA&uact=5&oq=%22pornhub%22+inurl%3Agov.br&gs_lp=Egxnd3Mtd2l6LXNlcnAiFiJwb3JuaHViIiBpbnVybDpnb3YuYnJIiA1QmwVYmQtwAngAkAEAmAGnAaABiweqAQMwLje4AQPIAQD4AQHiAwQYASBBiAYB&sclient=gws-wiz-serp#ip=1'}\n",
        "    ]\n",
        "\n",
        "#vai da criatividade pensar quais termos devo jogar aí em cima. Ainda não achei umn modo de \"prever\"\n",
        "\n",
        "# criando csv\n",
        "with open('output.csv', 'w', newline='') as f:\n",
        "    writer = csv.writer(f)\n",
        "    writer.writerow([\"Nome\", \"Link Azul\", \"URL\"])\n",
        "\n",
        "    for item in urls:\n",
        "        result = requests.get(item[\"url\"])\n",
        "        soup = BeautifulSoup(result.text, 'html.parser')\n",
        "\n",
        "        # separando as divs\n",
        "        divs = soup.find_all('div', class_='DnJfK')\n",
        "\n",
        "        # para cada div, extrair informações\n",
        "        for div in divs:\n",
        "            link_azul = div.find('div', class_='BNeawe vvjwJb AP7Wnd').text\n",
        "            url = div.find('div', class_='BNeawe UPmit AP7Wnd lRVwie').text\n",
        "            url = url.split('›')[0].strip()\n",
        "\n",
        "            # povoar arquivo\n",
        "            writer.writerow([item.get(\"name\", \"Sem nome\"), link_azul, url])\n",
        "        time.sleep(2)\n"
      ],
      "metadata": {
        "id": "ZtKuPee2a8b6"
      },
      "execution_count": null,
      "outputs": []
    },
    {
      "cell_type": "markdown",
      "source": [
        "---"
      ],
      "metadata": {
        "id": "F5LNP39QeaRb"
      }
    },
    {
      "cell_type": "markdown",
      "source": [
        "Como fazer a raspagem direto para um DataFrame do Pandas"
      ],
      "metadata": {
        "id": "3mUPtqiDeWsC"
      }
    },
    {
      "cell_type": "code",
      "source": [
        "df=pd.DataFrame(final, columns=['termo','link','orgao','url',])"
      ],
      "metadata": {
        "id": "HgPy5vxEZ29d"
      },
      "execution_count": null,
      "outputs": []
    },
    {
      "cell_type": "code",
      "source": [
        "final=[]\n",
        "for item in tqdm(urls):\n",
        "  result = requests.get(item[\"url\"])\n",
        "  soup = BeautifulSoup(result.text, 'html.parser')\n",
        "  divs = soup.find_all('div', class_='DnJfK')\n",
        "  for div in divs:\n",
        "    link_azul = div.find('div', class_='BNeawe vvjwJb AP7Wnd').text\n",
        "    url = div.find('div', class_='BNeawe UPmit AP7Wnd lRVwie').text.replace(' › ','/')\n",
        "    orgao= url.split('/')[0].strip()\n",
        "    final.append([item.get(\"name\", \"Sem nome\"), link_azul, orgao, url])\n",
        "    time.sleep(1)"
      ],
      "metadata": {
        "id": "OIPVn7kqZlca",
        "outputId": "13b2ec15-fa28-4d7e-e268-142f749fc2e0",
        "colab": {
          "base_uri": "https://localhost:8080/",
          "height": 236
        }
      },
      "execution_count": null,
      "outputs": [
        {
          "output_type": "stream",
          "name": "stderr",
          "text": [
            "  7%|▋         | 1/15 [00:14<03:22, 14.44s/it]\n"
          ]
        },
        {
          "output_type": "error",
          "ename": "KeyboardInterrupt",
          "evalue": "ignored",
          "traceback": [
            "\u001b[0;31m---------------------------------------------------------------------------\u001b[0m",
            "\u001b[0;31mKeyboardInterrupt\u001b[0m                         Traceback (most recent call last)",
            "\u001b[0;32m<ipython-input-20-792bcd426235>\u001b[0m in \u001b[0;36m<cell line: 2>\u001b[0;34m()\u001b[0m\n\u001b[1;32m      9\u001b[0m     \u001b[0morgao\u001b[0m\u001b[0;34m=\u001b[0m \u001b[0murl\u001b[0m\u001b[0;34m.\u001b[0m\u001b[0msplit\u001b[0m\u001b[0;34m(\u001b[0m\u001b[0;34m'/'\u001b[0m\u001b[0;34m)\u001b[0m\u001b[0;34m[\u001b[0m\u001b[0;36m0\u001b[0m\u001b[0;34m]\u001b[0m\u001b[0;34m.\u001b[0m\u001b[0mstrip\u001b[0m\u001b[0;34m(\u001b[0m\u001b[0;34m)\u001b[0m\u001b[0;34m\u001b[0m\u001b[0;34m\u001b[0m\u001b[0m\n\u001b[1;32m     10\u001b[0m     \u001b[0mfinal\u001b[0m\u001b[0;34m.\u001b[0m\u001b[0mappend\u001b[0m\u001b[0;34m(\u001b[0m\u001b[0;34m[\u001b[0m\u001b[0mitem\u001b[0m\u001b[0;34m.\u001b[0m\u001b[0mget\u001b[0m\u001b[0;34m(\u001b[0m\u001b[0;34m\"name\"\u001b[0m\u001b[0;34m,\u001b[0m \u001b[0;34m\"Sem nome\"\u001b[0m\u001b[0;34m)\u001b[0m\u001b[0;34m,\u001b[0m \u001b[0mlink_azul\u001b[0m\u001b[0;34m,\u001b[0m \u001b[0morgao\u001b[0m\u001b[0;34m,\u001b[0m \u001b[0murl\u001b[0m\u001b[0;34m]\u001b[0m\u001b[0;34m)\u001b[0m\u001b[0;34m\u001b[0m\u001b[0;34m\u001b[0m\u001b[0m\n\u001b[0;32m---> 11\u001b[0;31m     \u001b[0mtime\u001b[0m\u001b[0;34m.\u001b[0m\u001b[0msleep\u001b[0m\u001b[0;34m(\u001b[0m\u001b[0;36m1\u001b[0m\u001b[0;34m)\u001b[0m\u001b[0;34m\u001b[0m\u001b[0;34m\u001b[0m\u001b[0m\n\u001b[0m",
            "\u001b[0;31mKeyboardInterrupt\u001b[0m: "
          ]
        }
      ]
    },
    {
      "cell_type": "code",
      "source": [
        "df.to_csv('levantamento.csv', index=False)\n"
      ],
      "metadata": {
        "id": "4fVjMJ2fbUBt"
      },
      "execution_count": null,
      "outputs": []
    },
    {
      "cell_type": "code",
      "source": [
        "df.shape\n"
      ],
      "metadata": {
        "colab": {
          "base_uri": "https://localhost:8080/"
        },
        "id": "Y_XEE2U6tq67",
        "outputId": "670d9ea2-97af-4c40-b724-bb3a0fc7e79c"
      },
      "execution_count": null,
      "outputs": [
        {
          "output_type": "execute_result",
          "data": {
            "text/plain": [
              "(101, 4)"
            ]
          },
          "metadata": {},
          "execution_count": 18
        }
      ]
    }
  ]
}